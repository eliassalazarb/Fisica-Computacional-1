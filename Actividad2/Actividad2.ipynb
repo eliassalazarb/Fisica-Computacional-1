{
  "nbformat": 4,
  "nbformat_minor": 0,
  "metadata": {
    "colab": {
      "name": "Actividad2.ipynb",
      "provenance": [],
      "authorship_tag": "ABX9TyMdRaz2ygiSn/9gxfOJdsz5",
      "include_colab_link": true
    },
    "kernelspec": {
      "name": "python3",
      "display_name": "Python 3"
    }
  },
  "cells": [
    {
      "cell_type": "markdown",
      "metadata": {
        "id": "view-in-github",
        "colab_type": "text"
      },
      "source": [
        "<a href=\"https://colab.research.google.com/github/eliassalazarb/Fisica-Computacional-1/blob/main/Actividad2/Actividad2.ipynb\" target=\"_parent\"><img src=\"https://colab.research.google.com/assets/colab-badge.svg\" alt=\"Open In Colab\"/></a>"
      ]
    },
    {
      "cell_type": "code",
      "metadata": {
        "id": "Afhc3ZC_MBZ7"
      },
      "source": [
        "import numpy as np"
      ],
      "execution_count": 1,
      "outputs": []
    },
    {
      "cell_type": "markdown",
      "metadata": {
        "id": "eiMBmIgaqjJt"
      },
      "source": [
        "Calculando el área de un rectangulo\r\n",
        "\r\n",
        "  En la celda a continuación se presenta un programa que calcula el area de cualquier rectangulo, se define una función llamada area de dos variables que representan el ancho y largo del rectangulo.\r\n",
        "  Con la operación $(x*y)$ se calcula el area una vez que se piden los valores para el ancho y para el largo del rectangulo, a esta variables les he llamado $l, w$. "
      ]
    },
    {
      "cell_type": "code",
      "metadata": {
        "colab": {
          "base_uri": "https://localhost:8080/"
        },
        "id": "vE_4qlX9SIJD",
        "outputId": "a3dfcdbf-fb37-4582-df55-418d9f4b21b8"
      },
      "source": [
        "# Se define una función de 2 variables para calcular el área.  \r\n",
        "def area(x, y):\r\n",
        "    return x*y\r\n",
        "\r\n",
        "print(\"Proporciona el largo y altura del rectángulo: \", end=\"\")\r\n",
        "#variable l para el largo del rectangulo\r\n",
        "l = float(input())\r\n",
        "#variable w para el ancho del rectangulo\r\n",
        "w = float(input())\r\n",
        "a = area(l, w)\r\n",
        "# Imprime el valor del área en formato libre.\r\n",
        "print(\"\\nArea = \", a)\r\n",
        "# Imprime el valor del área con 2 decimales. \r\n",
        "print(\"\\nArea = {:.2f}\".format(a))\r\n"
      ],
      "execution_count": 2,
      "outputs": [
        {
          "output_type": "stream",
          "text": [
            "Proporciona el largo y altura del rectángulo: 2\n",
            "2\n",
            "\n",
            "Area =  4.0\n",
            "\n",
            "Area = 4.00\n"
          ],
          "name": "stdout"
        }
      ]
    },
    {
      "cell_type": "markdown",
      "metadata": {
        "id": "OuaSHxiFq07D"
      },
      "source": [
        "Calculando el área de un circulo\r\n",
        "\r\n",
        "  En el siguiente programa se pretende calcular el area de un circulo, el cual se expresa matematicamente de la siguiente forma: $A=\\pi r^2$ por lo que unicamente depende del radio, asi es que definimos una función de una variable con la forma descrita anteriormente y le pedimos al usuario que nos indique la longitud de ese radio y despues se imprime."
      ]
    },
    {
      "cell_type": "code",
      "metadata": {
        "colab": {
          "base_uri": "https://localhost:8080/"
        },
        "id": "LGJKa1x8TBBi",
        "outputId": "8ba81cec-962f-405b-940d-27375654d7ec"
      },
      "source": [
        "# Se define una función de 1 variable para calcular el área.  \r\n",
        "def area(x):\r\n",
        "    return np.pi*x**2\r\n",
        "\r\n",
        "print(\"Proporciona el radio del circulo: \", end=\"\")\r\n",
        "#variable para el radio del circulo\r\n",
        "r = float(input())\r\n",
        "a = area(r)\r\n",
        "# Imprime el valor del área en formato libre.\r\n",
        "print(\"\\nArea = \", a)\r\n",
        "# Imprime el valor del área con 2 decimales. \r\n",
        "print(\"\\nArea = {:.2f}\".format(a))"
      ],
      "execution_count": 3,
      "outputs": [
        {
          "output_type": "stream",
          "text": [
            "Proporciona el radio del circulo: 1\n",
            "\n",
            "Area =  3.141592653589793\n",
            "\n",
            "Area = 3.14\n"
          ],
          "name": "stdout"
        }
      ]
    },
    {
      "cell_type": "markdown",
      "metadata": {
        "id": "J1kVgLQpq_L1"
      },
      "source": [
        "Calculando el área de una elipse\r\n",
        "\r\n",
        "  En el siguiente programa se pretende calcular el area de una elipse, el cual se expresa matematicamente de la siguiente forma: $A=\\pi a b$ donde $a$ es el semieje mayor y $b$ el semieje menor, asi es que definimos una función de dos variable con la forma descrita anteriormente y le pedimos al usuario que nos indique la magnitud del semieje mayor y del semieje menor y despues se imprime el resultado. En particular en este programa se le llama $b$ al semieje mayor y $c$ al semieje menor ya que se utiliza $a$ para llamar a la función del area.\r\n"
      ]
    },
    {
      "cell_type": "code",
      "metadata": {
        "colab": {
          "base_uri": "https://localhost:8080/"
        },
        "id": "aKsUww5OV2f2",
        "outputId": "221c96c9-204a-409e-fc13-f2bb96e1de15"
      },
      "source": [
        "# Se define una función de 2 variables para calcular el área.  \r\n",
        "def area(x, y):\r\n",
        "    return np.pi*x*y\r\n",
        "\r\n",
        "print(\"Proporciona el semieje mayor y semieje menor de la elipse: \", end=\"\")\r\n",
        "#variable para el semieje mayor\r\n",
        "b = float(input())\r\n",
        "#variable para el semieje menor\r\n",
        "c = float(input())\r\n",
        "a = area(b, c)\r\n",
        "# Imprime el valor del área en formato libre.\r\n",
        "print(\"\\nArea = \", a)\r\n",
        "# Imprime el valor del área con 2 decimales. \r\n",
        "print(\"\\nArea = {:.2f}\".format(a))"
      ],
      "execution_count": 6,
      "outputs": [
        {
          "output_type": "stream",
          "text": [
            "Proporciona el semieje mayor y semieje menor de la elipse: 2\n",
            "6\n",
            "\n",
            "Area =  37.69911184307752\n",
            "\n",
            "Area = 37.70\n"
          ],
          "name": "stdout"
        }
      ]
    },
    {
      "cell_type": "markdown",
      "metadata": {
        "id": "AZkuwn-ZrDOK"
      },
      "source": [
        "Calculando el volumen de una esfera\r\n",
        "\r\n",
        "  En el siguiente programa se pretende calcular el volumen de una esfera, el cual se expresa matematicamente de la siguiente forma: $V=\\pi r^3$ donde $r$ es el radio, asi es que definimos una función de una variable con la forma descrita anteriormente y le pedimos al usuario que nos indique la magnitud del radio y despues se imprime el resultado.\r\n"
      ]
    },
    {
      "cell_type": "code",
      "metadata": {
        "colab": {
          "base_uri": "https://localhost:8080/"
        },
        "id": "h7q-sr1idNdt",
        "outputId": "cb115876-4b8d-413d-b218-72e109bb8426"
      },
      "source": [
        "# Se define una función de 1 variable para calcular el volumen.  \r\n",
        "def volumen(x):\r\n",
        "    return np.pi*x**3\r\n",
        "\r\n",
        "print(\"Proporciona el radio de la esfera: \", end=\"\")\r\n",
        "r = float(input())\r\n",
        "v = volumen(r)\r\n",
        "# Imprime el valor del área en formato libre.\r\n",
        "print(\"\\nVolumen = \", v)\r\n",
        "# Imprime el valor del área con 2 decimales. \r\n",
        "print(\"\\nVolumen = {:.2f}\".format(v))"
      ],
      "execution_count": 8,
      "outputs": [
        {
          "output_type": "stream",
          "text": [
            "Proporciona el radio de la esfera: 2\n",
            "\n",
            "Volumen =  25.132741228718345\n",
            "\n",
            "Volumen = 25.13\n"
          ],
          "name": "stdout"
        }
      ]
    },
    {
      "cell_type": "markdown",
      "metadata": {
        "id": "GMiDCbYjrIsA"
      },
      "source": [
        "Calculando el volumen de un cilindro\r\n",
        "\r\n",
        "  En el siguiente programa se pretende calcular el volumen de un cilindro, el cual se expresa matematicamente de la siguiente forma: $V=\\pi r^2h$ donde $r$ es el radio y $h$ es la altura del clindro, asi es que definimos una función de dos variables con la forma descrita anteriormente y le pedimos al usuario que nos indique la magnitud de la altura y del radio respectivamente para despues imprimir el resultado.\r\n"
      ]
    },
    {
      "cell_type": "code",
      "metadata": {
        "colab": {
          "base_uri": "https://localhost:8080/"
        },
        "id": "3zre_IiyeRpE",
        "outputId": "4481ea3a-62c7-41fb-9515-71c14d488455"
      },
      "source": [
        "# Se define una función de 2 variables para calcular el volumen.  \r\n",
        "def volumen(x, y):\r\n",
        "    return np.pi*x*y**2\r\n",
        "\r\n",
        "print(\"Proporciona la altura y radio del cilindro: \", end=\"\")\r\n",
        "#variable para la altura\r\n",
        "h = float(input())\r\n",
        "#variable para el radio\r\n",
        "r = float(input())\r\n",
        "v = volumen(h, r)\r\n",
        "# Imprime el valor del área en formato libre.\r\n",
        "print(\"\\nVolumen = \", v)\r\n",
        "# Imprime el valor del área con 2 decimales. \r\n",
        "print(\"\\nVolumen = {:.2f}\".format(v))"
      ],
      "execution_count": 10,
      "outputs": [
        {
          "output_type": "stream",
          "text": [
            "Proporciona la altura y radio del cilindro: 2\n",
            "3\n",
            "\n",
            "Volumen =  56.548667764616276\n",
            "\n",
            "Volumen = 56.55\n"
          ],
          "name": "stdout"
        }
      ]
    },
    {
      "cell_type": "markdown",
      "metadata": {
        "id": "AKrukbdKrOpW"
      },
      "source": [
        "Calculando las raices de una ecuación cuadrática\r\n",
        "\r\n",
        "  En el siguiente programa se calcula las raices para cualquier ecuación cuadratica, para esto se definen dos funciones de tres variables cada una. La forma matematica para calcular estas raices es:\r\n",
        "\r\n",
        "$\\frac{-b±\\sqrt{ b^2 -4ac}}{2a}$\r\n",
        "\r\n",
        "  Por lo tanto necesitamos de dos ecuaciones para cada una de las partes de la raíz, y asi se define cada una, especificamente como \"raizmenos\" para la parte negativa y \"raizmas\" para la parte positiva. Las tres variables que denotamos como $a$, $b$ y $c$ son los coeficientes de la ecuación que se utilizan en nuestra formula y se le pide al usurio que indique cual es cada una de esas. Finalmente se imprimen ambos resultados; ambas raices. Notese que el programa tien la cpacidad de calcular raices que no necesarimanete son un numero real y esto se va a indicar con la letra $j$ para la componente imaginaria de la raiz. \r\n"
      ]
    },
    {
      "cell_type": "code",
      "metadata": {
        "colab": {
          "base_uri": "https://localhost:8080/"
        },
        "id": "XO_965fZgwNK",
        "outputId": "9b2bfb80-2594-4d4f-95ea-679638f9275c"
      },
      "source": [
        "# Se utiliza el símbolo # para hacer comentarios.\r\n",
        "# Se define una función de 2 variables para calcular el volumen.  \r\n",
        "def raizmenos(x, y, z):\r\n",
        "    return (-y-(y**2 -4*x*z)**(1/2))/(2*x) \r\n",
        "def raizmas(x, y, z):\r\n",
        "    return (-y+(y**2 -4*x*z)**(1/2))/(2*x)\r\n",
        "\r\n",
        "print(\"Proporciona los coeficientes de tu ecuación cuadrática: \", end=\"\")\r\n",
        "a = float(input())\r\n",
        "b = float(input())\r\n",
        "c = float(input())\r\n",
        "r = raizmenos(a, b, c)\r\n",
        "R = raizmas(a, b, c)\r\n",
        "# Imprime el valor del área en formato libre.\r\n",
        "print(\"\\nRaizmenos = \", r)\r\n",
        "# Imprime el valor del área con 2 decimales. \r\n",
        "print(\"\\nRaizmenos = {:.2f}\".format(r))\r\n",
        "# Imprime el valor del área en formato libre.\r\n",
        "print(\"\\nRaizmenos = \", R)\r\n",
        "# Imprime el valor del área con 2 decimales. \r\n",
        "print(\"\\nRaizmenos = {:.2f}\".format(R))"
      ],
      "execution_count": 11,
      "outputs": [
        {
          "output_type": "stream",
          "text": [
            "Proporciona los coeficientes de tu ecuación cuadrática: 1\n",
            "-1\n",
            "-6\n",
            "\n",
            "Raizmenos =  -2.0\n",
            "\n",
            "Raizmenos = -2.00\n",
            "\n",
            "Raizmenos =  3.0\n",
            "\n",
            "Raizmenos = 3.00\n"
          ],
          "name": "stdout"
        }
      ]
    }
  ]
}