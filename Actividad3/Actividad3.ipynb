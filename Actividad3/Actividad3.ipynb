{
  "nbformat": 4,
  "nbformat_minor": 0,
  "metadata": {
    "colab": {
      "name": "Actividad3.ipynb",
      "provenance": [],
      "authorship_tag": "ABX9TyPRB5i6VitTIlBZe3Ap3c+C",
      "include_colab_link": true
    },
    "kernelspec": {
      "name": "python3",
      "display_name": "Python 3"
    }
  },
  "cells": [
    {
      "cell_type": "markdown",
      "metadata": {
        "id": "view-in-github",
        "colab_type": "text"
      },
      "source": [
        "<a href=\"https://colab.research.google.com/github/eliassalazarb/FisicaComputacional1/blob/main/Actividad3/Actividad3.ipynb\" target=\"_parent\"><img src=\"https://colab.research.google.com/assets/colab-badge.svg\" alt=\"Open In Colab\"/></a>"
      ]
    },
    {
      "cell_type": "code",
      "metadata": {
        "id": "-LBa6UhsJYHd"
      },
      "source": [
        "import numpy as np\r\n",
        "import pandas as pd\r\n",
        "\r\n",
        "# Tomar datos del url en formato \"raw\"\r\n",
        "url = 'https://raw.githubusercontent.com/eliassalazarb/FisicaComputacional1/main/Actividad1/25038.txt'\r\n",
        "\r\n",
        "# Definimos los nombres de las columnas\r\n",
        "# El archivo tiene códigos ASCII extendido (Español), encoding='cp1251' Windows (Europa Occidental)\r\n",
        "# El separador de datos es de uno o más espacios, sep='\\s+'\r\n",
        "# Se brincará los primeros 19 renglones y el último, afirmamos que no nay encabezado\r\n",
        "# Se procesan los datos utilizando Python, engine='python' \r\n",
        "my_cols = ['Fecha','Precip','Evap','Tmax','Tmin',]\r\n",
        "df_tkt = pd.read_csv(url, names=my_cols, encoding='cp1251', sep='\\s+', header=None, skiprows=19, skipfooter=1, engine='python')"
      ],
      "execution_count": 5,
      "outputs": []
    },
    {
      "cell_type": "code",
      "metadata": {
        "colab": {
          "base_uri": "https://localhost:8080/"
        },
        "id": "Rtbo4IngJZ02",
        "outputId": "c852b016-6085-433c-8f1b-dffe61b95c30"
      },
      "source": [
        "# Revisamos los primeros diez renglones y los últimos diez del dataframe\r\n",
        "print(df_tkt.head(10))\r\n",
        "print(df_tkt.tail(10))"
      ],
      "execution_count": 6,
      "outputs": [
        {
          "output_type": "stream",
          "text": [
            "        Fecha Precip  Evap  Tmax  Tmin\n",
            "0  15/01/1969      0  Nulo  Nulo  Nulo\n",
            "1  16/01/1969      0   3.2    26  13.5\n",
            "2  17/01/1969      0   2.6    27    13\n",
            "3  18/01/1969      0   0.5    26  11.5\n",
            "4  19/01/1969      0   5.1    25  11.5\n",
            "5  20/01/1969      0   3.5    29  10.5\n",
            "6  21/01/1969      0     2    29   9.5\n",
            "7  22/01/1969      0     3  28.5    11\n",
            "8  23/01/1969      0   2.8  27.5    11\n",
            "9  24/01/1969      0   3.9    29    10\n",
            "            Fecha Precip  Evap  Tmax  Tmin\n",
            "17539  22/12/2018      0  Nulo    29    12\n",
            "17540  23/12/2018      0  Nulo    29  11.5\n",
            "17541  24/12/2018      0  Nulo    28  12.5\n",
            "17542  25/12/2018      0  Nulo    27    12\n",
            "17543  26/12/2018      0  Nulo    24  12.5\n",
            "17544  27/12/2018      0  Nulo  24.5    11\n",
            "17545  28/12/2018      0  Nulo    24     8\n",
            "17546  29/12/2018      0  Nulo  21.5     9\n",
            "17547  30/12/2018      0  Nulo  20.5     6\n",
            "17548  31/12/2018      0  Nulo  22.5   5.5\n"
          ],
          "name": "stdout"
        }
      ]
    },
    {
      "cell_type": "code",
      "metadata": {
        "colab": {
          "base_uri": "https://localhost:8080/"
        },
        "id": "bFzp6WZgXzg9",
        "outputId": "1c81a769-41c8-4358-b2b3-607e29f80ef7"
      },
      "source": [
        "# Revisamos las dimensiones (renglones, columnas)\r\n",
        "df_tkt.shape"
      ],
      "execution_count": 7,
      "outputs": [
        {
          "output_type": "execute_result",
          "data": {
            "text/plain": [
              "(17549, 5)"
            ]
          },
          "metadata": {
            "tags": []
          },
          "execution_count": 7
        }
      ]
    },
    {
      "cell_type": "code",
      "metadata": {
        "colab": {
          "base_uri": "https://localhost:8080/"
        },
        "id": "3w0cJGZyX2z4",
        "outputId": "9b417c86-9a98-44a6-9903-e95992e6a056"
      },
      "source": [
        "# Información del dataframe\r\n",
        "df_tkt.info()"
      ],
      "execution_count": 8,
      "outputs": [
        {
          "output_type": "stream",
          "text": [
            "<class 'pandas.core.frame.DataFrame'>\n",
            "RangeIndex: 17549 entries, 0 to 17548\n",
            "Data columns (total 5 columns):\n",
            " #   Column  Non-Null Count  Dtype \n",
            "---  ------  --------------  ----- \n",
            " 0   Fecha   17549 non-null  object\n",
            " 1   Precip  17549 non-null  object\n",
            " 2   Evap    17549 non-null  object\n",
            " 3   Tmax    17549 non-null  object\n",
            " 4   Tmin    17549 non-null  object\n",
            "dtypes: object(5)\n",
            "memory usage: 685.6+ KB\n"
          ],
          "name": "stdout"
        }
      ]
    },
    {
      "cell_type": "code",
      "metadata": {
        "colab": {
          "base_uri": "https://localhost:8080/",
          "height": 194
        },
        "id": "3YDk-1A6X8qK",
        "outputId": "4f9ebac2-6865-46a4-a154-8feecca60d77"
      },
      "source": [
        "# Hacemos una copia de trabajo y preservamos el dataframe original\r\n",
        "df_tkt0 = df_tkt.copy()\r\n",
        "df_tkt0.head()"
      ],
      "execution_count": 9,
      "outputs": [
        {
          "output_type": "execute_result",
          "data": {
            "text/html": [
              "<div>\n",
              "<style scoped>\n",
              "    .dataframe tbody tr th:only-of-type {\n",
              "        vertical-align: middle;\n",
              "    }\n",
              "\n",
              "    .dataframe tbody tr th {\n",
              "        vertical-align: top;\n",
              "    }\n",
              "\n",
              "    .dataframe thead th {\n",
              "        text-align: right;\n",
              "    }\n",
              "</style>\n",
              "<table border=\"1\" class=\"dataframe\">\n",
              "  <thead>\n",
              "    <tr style=\"text-align: right;\">\n",
              "      <th></th>\n",
              "      <th>Fecha</th>\n",
              "      <th>Precip</th>\n",
              "      <th>Evap</th>\n",
              "      <th>Tmax</th>\n",
              "      <th>Tmin</th>\n",
              "    </tr>\n",
              "  </thead>\n",
              "  <tbody>\n",
              "    <tr>\n",
              "      <th>0</th>\n",
              "      <td>15/01/1969</td>\n",
              "      <td>0</td>\n",
              "      <td>Nulo</td>\n",
              "      <td>Nulo</td>\n",
              "      <td>Nulo</td>\n",
              "    </tr>\n",
              "    <tr>\n",
              "      <th>1</th>\n",
              "      <td>16/01/1969</td>\n",
              "      <td>0</td>\n",
              "      <td>3.2</td>\n",
              "      <td>26</td>\n",
              "      <td>13.5</td>\n",
              "    </tr>\n",
              "    <tr>\n",
              "      <th>2</th>\n",
              "      <td>17/01/1969</td>\n",
              "      <td>0</td>\n",
              "      <td>2.6</td>\n",
              "      <td>27</td>\n",
              "      <td>13</td>\n",
              "    </tr>\n",
              "    <tr>\n",
              "      <th>3</th>\n",
              "      <td>18/01/1969</td>\n",
              "      <td>0</td>\n",
              "      <td>0.5</td>\n",
              "      <td>26</td>\n",
              "      <td>11.5</td>\n",
              "    </tr>\n",
              "    <tr>\n",
              "      <th>4</th>\n",
              "      <td>19/01/1969</td>\n",
              "      <td>0</td>\n",
              "      <td>5.1</td>\n",
              "      <td>25</td>\n",
              "      <td>11.5</td>\n",
              "    </tr>\n",
              "  </tbody>\n",
              "</table>\n",
              "</div>"
            ],
            "text/plain": [
              "        Fecha Precip  Evap  Tmax  Tmin\n",
              "0  15/01/1969      0  Nulo  Nulo  Nulo\n",
              "1  16/01/1969      0   3.2    26  13.5\n",
              "2  17/01/1969      0   2.6    27    13\n",
              "3  18/01/1969      0   0.5    26  11.5\n",
              "4  19/01/1969      0   5.1    25  11.5"
            ]
          },
          "metadata": {
            "tags": []
          },
          "execution_count": 9
        }
      ]
    },
    {
      "cell_type": "code",
      "metadata": {
        "colab": {
          "base_uri": "https://localhost:8080/"
        },
        "id": "FstPko_gYAsI",
        "outputId": "16349cee-7c6f-41b8-c349-b1600bc19f68"
      },
      "source": [
        "# Cambiamos la palabra nulo por un vacío y verificamos\r\n",
        "str_Nulo = 'Nulo'\r\n",
        "df_tkt1 = df_tkt0.replace(to_replace=str_Nulo, value='', regex=True)\r\n",
        "print(df_tkt1.head())\r\n",
        "print(df_tkt.tail())"
      ],
      "execution_count": 10,
      "outputs": [
        {
          "output_type": "stream",
          "text": [
            "        Fecha Precip Evap Tmax  Tmin\n",
            "0  15/01/1969      0                \n",
            "1  16/01/1969      0  3.2   26  13.5\n",
            "2  17/01/1969      0  2.6   27    13\n",
            "3  18/01/1969      0  0.5   26  11.5\n",
            "4  19/01/1969      0  5.1   25  11.5\n",
            "            Fecha Precip  Evap  Tmax Tmin\n",
            "17544  27/12/2018      0  Nulo  24.5   11\n",
            "17545  28/12/2018      0  Nulo    24    8\n",
            "17546  29/12/2018      0  Nulo  21.5    9\n",
            "17547  30/12/2018      0  Nulo  20.5    6\n",
            "17548  31/12/2018      0  Nulo  22.5  5.5\n"
          ],
          "name": "stdout"
        }
      ]
    },
    {
      "cell_type": "code",
      "metadata": {
        "colab": {
          "base_uri": "https://localhost:8080/"
        },
        "id": "hR48MduRYFu-",
        "outputId": "4e18f397-d2b3-4aa7-e8ef-8ab392beb012"
      },
      "source": [
        "# Convertimos los valores de las variables ambientales a números flotantes y verificamos \r\n",
        "cols_list = ['Precip', 'Evap', 'Tmax', 'Tmin']\r\n",
        "for cols in cols_list:\r\n",
        "  df_tkt1[cols] = pd.to_numeric(df_tkt0[cols], errors='coerce')\r\n",
        "df_tkt1.info()"
      ],
      "execution_count": 11,
      "outputs": [
        {
          "output_type": "stream",
          "text": [
            "<class 'pandas.core.frame.DataFrame'>\n",
            "RangeIndex: 17549 entries, 0 to 17548\n",
            "Data columns (total 5 columns):\n",
            " #   Column  Non-Null Count  Dtype  \n",
            "---  ------  --------------  -----  \n",
            " 0   Fecha   17549 non-null  object \n",
            " 1   Precip  17402 non-null  float64\n",
            " 2   Evap    6167 non-null   float64\n",
            " 3   Tmax    17412 non-null  float64\n",
            " 4   Tmin    17379 non-null  float64\n",
            "dtypes: float64(4), object(1)\n",
            "memory usage: 685.6+ KB\n"
          ],
          "name": "stdout"
        }
      ]
    },
    {
      "cell_type": "code",
      "metadata": {
        "colab": {
          "base_uri": "https://localhost:8080/"
        },
        "id": "A76F-a0vYJd3",
        "outputId": "d78b83f4-5970-4b35-9f57-2d05563c5fdf"
      },
      "source": [
        "# Contabilizamos el número de datos faltantes en las variables y se suman los valores nulos\r\n",
        "df_tkt1.isnull().sum()"
      ],
      "execution_count": 12,
      "outputs": [
        {
          "output_type": "execute_result",
          "data": {
            "text/plain": [
              "Fecha         0\n",
              "Precip      147\n",
              "Evap      11382\n",
              "Tmax        137\n",
              "Tmin        170\n",
              "dtype: int64"
            ]
          },
          "metadata": {
            "tags": []
          },
          "execution_count": 12
        }
      ]
    },
    {
      "cell_type": "code",
      "metadata": {
        "colab": {
          "base_uri": "https://localhost:8080/"
        },
        "id": "7V5WKqcVYP5g",
        "outputId": "773effd3-749e-4bdc-db3e-c8469f4af2b5"
      },
      "source": [
        "# Imprimimos nuevamente el encabezado y el final del dataframe\r\n",
        "print(df_tkt1.head())\r\n",
        "print(df_tkt1.tail())"
      ],
      "execution_count": 13,
      "outputs": [
        {
          "output_type": "stream",
          "text": [
            "        Fecha  Precip  Evap  Tmax  Tmin\n",
            "0  15/01/1969     0.0   NaN   NaN   NaN\n",
            "1  16/01/1969     0.0   3.2  26.0  13.5\n",
            "2  17/01/1969     0.0   2.6  27.0  13.0\n",
            "3  18/01/1969     0.0   0.5  26.0  11.5\n",
            "4  19/01/1969     0.0   5.1  25.0  11.5\n",
            "            Fecha  Precip  Evap  Tmax  Tmin\n",
            "17544  27/12/2018     0.0   NaN  24.5  11.0\n",
            "17545  28/12/2018     0.0   NaN  24.0   8.0\n",
            "17546  29/12/2018     0.0   NaN  21.5   9.0\n",
            "17547  30/12/2018     0.0   NaN  20.5   6.0\n",
            "17548  31/12/2018     0.0   NaN  22.5   5.5\n"
          ],
          "name": "stdout"
        }
      ]
    },
    {
      "cell_type": "code",
      "metadata": {
        "colab": {
          "base_uri": "https://localhost:8080/",
          "height": 282
        },
        "id": "wOUe2u30YUnL",
        "outputId": "86367c75-fa7c-479e-d201-c7d664c06b09"
      },
      "source": [
        "# Estádistica básica de las variables númericas con redondeo a 2 cifras significativas\r\n",
        "df_tkt1.describe().round(2)"
      ],
      "execution_count": 14,
      "outputs": [
        {
          "output_type": "execute_result",
          "data": {
            "text/html": [
              "<div>\n",
              "<style scoped>\n",
              "    .dataframe tbody tr th:only-of-type {\n",
              "        vertical-align: middle;\n",
              "    }\n",
              "\n",
              "    .dataframe tbody tr th {\n",
              "        vertical-align: top;\n",
              "    }\n",
              "\n",
              "    .dataframe thead th {\n",
              "        text-align: right;\n",
              "    }\n",
              "</style>\n",
              "<table border=\"1\" class=\"dataframe\">\n",
              "  <thead>\n",
              "    <tr style=\"text-align: right;\">\n",
              "      <th></th>\n",
              "      <th>Precip</th>\n",
              "      <th>Evap</th>\n",
              "      <th>Tmax</th>\n",
              "      <th>Tmin</th>\n",
              "    </tr>\n",
              "  </thead>\n",
              "  <tbody>\n",
              "    <tr>\n",
              "      <th>count</th>\n",
              "      <td>17402.00</td>\n",
              "      <td>6167.00</td>\n",
              "      <td>17412.00</td>\n",
              "      <td>17379.00</td>\n",
              "    </tr>\n",
              "    <tr>\n",
              "      <th>mean</th>\n",
              "      <td>1.24</td>\n",
              "      <td>4.41</td>\n",
              "      <td>32.98</td>\n",
              "      <td>17.64</td>\n",
              "    </tr>\n",
              "    <tr>\n",
              "      <th>std</th>\n",
              "      <td>7.23</td>\n",
              "      <td>1.99</td>\n",
              "      <td>4.63</td>\n",
              "      <td>5.87</td>\n",
              "    </tr>\n",
              "    <tr>\n",
              "      <th>min</th>\n",
              "      <td>0.00</td>\n",
              "      <td>0.10</td>\n",
              "      <td>13.00</td>\n",
              "      <td>-0.50</td>\n",
              "    </tr>\n",
              "    <tr>\n",
              "      <th>25%</th>\n",
              "      <td>0.00</td>\n",
              "      <td>2.90</td>\n",
              "      <td>30.00</td>\n",
              "      <td>12.50</td>\n",
              "    </tr>\n",
              "    <tr>\n",
              "      <th>50%</th>\n",
              "      <td>0.00</td>\n",
              "      <td>4.20</td>\n",
              "      <td>34.00</td>\n",
              "      <td>17.00</td>\n",
              "    </tr>\n",
              "    <tr>\n",
              "      <th>75%</th>\n",
              "      <td>0.00</td>\n",
              "      <td>5.70</td>\n",
              "      <td>36.50</td>\n",
              "      <td>23.50</td>\n",
              "    </tr>\n",
              "    <tr>\n",
              "      <th>max</th>\n",
              "      <td>243.00</td>\n",
              "      <td>16.40</td>\n",
              "      <td>46.00</td>\n",
              "      <td>29.50</td>\n",
              "    </tr>\n",
              "  </tbody>\n",
              "</table>\n",
              "</div>"
            ],
            "text/plain": [
              "         Precip     Evap      Tmax      Tmin\n",
              "count  17402.00  6167.00  17412.00  17379.00\n",
              "mean       1.24     4.41     32.98     17.64\n",
              "std        7.23     1.99      4.63      5.87\n",
              "min        0.00     0.10     13.00     -0.50\n",
              "25%        0.00     2.90     30.00     12.50\n",
              "50%        0.00     4.20     34.00     17.00\n",
              "75%        0.00     5.70     36.50     23.50\n",
              "max      243.00    16.40     46.00     29.50"
            ]
          },
          "metadata": {
            "tags": []
          },
          "execution_count": 14
        }
      ]
    },
    {
      "cell_type": "code",
      "metadata": {
        "colab": {
          "base_uri": "https://localhost:8080/"
        },
        "id": "wOLsURjFYaAF",
        "outputId": "e532ff09-1bb4-4838-b7a1-6e18f382ba99"
      },
      "source": [
        "# Definimos un nuevo dataframe por si hay que regresarse.\r\n",
        "df_tkt2 = df_tkt1.copy()\r\n",
        "df_tkt2['Fecha'].head()"
      ],
      "execution_count": 15,
      "outputs": [
        {
          "output_type": "execute_result",
          "data": {
            "text/plain": [
              "0    15/01/1969\n",
              "1    16/01/1969\n",
              "2    17/01/1969\n",
              "3    18/01/1969\n",
              "4    19/01/1969\n",
              "Name: Fecha, dtype: object"
            ]
          },
          "metadata": {
            "tags": []
          },
          "execution_count": 15
        }
      ]
    },
    {
      "cell_type": "code",
      "metadata": {
        "colab": {
          "base_uri": "https://localhost:8080/"
        },
        "id": "Adnh9jJ3Yc73",
        "outputId": "c8fe99c4-bc53-4d1b-cd2b-188a25e096dc"
      },
      "source": [
        "# Se convierte el objeto Fecha a variable fecha que python reconoce\r\n",
        "df_tkt2['Fecha'] = pd.to_datetime(df_tkt2['Fecha'], dayfirst=True).copy()\r\n",
        "print(df_tkt2.head())"
      ],
      "execution_count": 16,
      "outputs": [
        {
          "output_type": "stream",
          "text": [
            "       Fecha  Precip  Evap  Tmax  Tmin\n",
            "0 1969-01-15     0.0   NaN   NaN   NaN\n",
            "1 1969-01-16     0.0   3.2  26.0  13.5\n",
            "2 1969-01-17     0.0   2.6  27.0  13.0\n",
            "3 1969-01-18     0.0   0.5  26.0  11.5\n",
            "4 1969-01-19     0.0   5.1  25.0  11.5\n"
          ],
          "name": "stdout"
        }
      ]
    },
    {
      "cell_type": "code",
      "metadata": {
        "colab": {
          "base_uri": "https://localhost:8080/"
        },
        "id": "b77SdjYlYgAc",
        "outputId": "a5aad0fd-b715-4e5a-f7b4-593f75806f2f"
      },
      "source": [
        "# Verificamos que las variables son del tipo que las queremos\r\n",
        "df_tkt2.dtypes"
      ],
      "execution_count": 17,
      "outputs": [
        {
          "output_type": "execute_result",
          "data": {
            "text/plain": [
              "Fecha     datetime64[ns]\n",
              "Precip           float64\n",
              "Evap             float64\n",
              "Tmax             float64\n",
              "Tmin             float64\n",
              "dtype: object"
            ]
          },
          "metadata": {
            "tags": []
          },
          "execution_count": 17
        }
      ]
    },
    {
      "cell_type": "code",
      "metadata": {
        "colab": {
          "base_uri": "https://localhost:8080/"
        },
        "id": "CzdfYFzVYjcE",
        "outputId": "7581c327-30a8-4c6d-8c50-3b001dd22ecd"
      },
      "source": [
        "# Añadimos dos columnas adicionales: df['Año'], df['Mes']\r\n",
        "# Usaremos la función .dt.year y .dt.month para extraer el Año y Mes de la Fecha\r\n",
        "df_tkt2['Año'] = df_tkt2['Fecha'].dt.year\r\n",
        "df_tkt2['Mes'] = df_tkt2['Fecha'].dt.month\r\n",
        "# Verificamos que se hayan creado de forma correcta\r\n",
        "# Tendremos ahora dos columnas adicionales de Año y Mes.\r\n",
        "print(df_tkt2.head())\r\n",
        "print(df_tkt2.tail())"
      ],
      "execution_count": 18,
      "outputs": [
        {
          "output_type": "stream",
          "text": [
            "       Fecha  Precip  Evap  Tmax  Tmin   Año  Mes\n",
            "0 1969-01-15     0.0   NaN   NaN   NaN  1969    1\n",
            "1 1969-01-16     0.0   3.2  26.0  13.5  1969    1\n",
            "2 1969-01-17     0.0   2.6  27.0  13.0  1969    1\n",
            "3 1969-01-18     0.0   0.5  26.0  11.5  1969    1\n",
            "4 1969-01-19     0.0   5.1  25.0  11.5  1969    1\n",
            "           Fecha  Precip  Evap  Tmax  Tmin   Año  Mes\n",
            "17544 2018-12-27     0.0   NaN  24.5  11.0  2018   12\n",
            "17545 2018-12-28     0.0   NaN  24.0   8.0  2018   12\n",
            "17546 2018-12-29     0.0   NaN  21.5   9.0  2018   12\n",
            "17547 2018-12-30     0.0   NaN  20.5   6.0  2018   12\n",
            "17548 2018-12-31     0.0   NaN  22.5   5.5  2018   12\n"
          ],
          "name": "stdout"
        }
      ]
    },
    {
      "cell_type": "code",
      "metadata": {
        "colab": {
          "base_uri": "https://localhost:8080/"
        },
        "id": "l5FwQIJgYnFy",
        "outputId": "ad0c865f-1835-4d89-aa0c-25d2011bed1c"
      },
      "source": [
        "# Verificamos que las variables Mes y Año son enteros\r\n",
        "df_tkt2.dtypes"
      ],
      "execution_count": 19,
      "outputs": [
        {
          "output_type": "execute_result",
          "data": {
            "text/plain": [
              "Fecha     datetime64[ns]\n",
              "Precip           float64\n",
              "Evap             float64\n",
              "Tmax             float64\n",
              "Tmin             float64\n",
              "Año                int64\n",
              "Mes                int64\n",
              "dtype: object"
            ]
          },
          "metadata": {
            "tags": []
          },
          "execution_count": 19
        }
      ]
    }
  ]
}